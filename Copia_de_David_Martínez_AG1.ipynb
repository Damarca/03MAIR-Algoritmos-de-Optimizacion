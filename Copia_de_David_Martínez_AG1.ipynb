{
  "nbformat": 4,
  "nbformat_minor": 0,
  "metadata": {
    "colab": {
      "name": "Copia de David Martínez - AG1.ipynb",
      "provenance": [],
      "collapsed_sections": [],
      "toc_visible": true,
      "mount_file_id": "1uTdAgYNyq4bQZAX5_sT8-MEKgmNo0q7_",
      "authorship_tag": "ABX9TyP4o5yyo5UkIGnnf9vQ3+po",
      "include_colab_link": true
    },
    "kernelspec": {
      "name": "python3",
      "display_name": "Python 3"
    }
  },
  "cells": [
    {
      "cell_type": "markdown",
      "metadata": {
        "id": "view-in-github",
        "colab_type": "text"
      },
      "source": [
        "<a href=\"https://colab.research.google.com/github/Damarca/03MAIR-Algoritmos-de-Optimizacion/blob/main/Copia_de_David_Mart%C3%ADnez_AG1.ipynb\" target=\"_parent\"><img src=\"https://colab.research.google.com/assets/colab-badge.svg\" alt=\"Open In Colab\"/></a>"
      ]
    },
    {
      "cell_type": "markdown",
      "metadata": {
        "id": "iGsFnvI-E0Tv"
      },
      "source": [
        "#Algoritmos -Actividad Guiada 1\r\n",
        "David: David Martínez Carballeira <br>\r\n",
        "URL: https://colab.research.google.com/drive/1uTdAgYNyq4bQZAX5_sT8-MEKgmNo0q7_?usp=sharing\r\n",
        "\r\n",
        "https://github.com/Damarca/03MAIR-Algoritmos-de-Optimizacion"
      ]
    },
    {
      "cell_type": "code",
      "metadata": {
        "id": "BJfHWqd-DSLN"
      },
      "source": [
        ""
      ],
      "execution_count": null,
      "outputs": []
    },
    {
      "cell_type": "markdown",
      "metadata": {
        "id": "R2AEVWXTFyvq"
      },
      "source": [
        "##Torres de Hanoi con Divide y vencerás"
      ]
    },
    {
      "cell_type": "code",
      "metadata": {
        "colab": {
          "base_uri": "https://localhost:8080/"
        },
        "id": "yjn35opoGpWv",
        "outputId": "0a99b7aa-be39-4c29-e332-c2dbce3861df"
      },
      "source": [
        "def Torres_Hanoi(N, desde, hasta):\r\n",
        "  if N == 1 :\r\n",
        "    print(\"Lleva la ficha \" ,desde, \" hasta \", hasta)\r\n",
        "\r\n",
        "  else:\r\n",
        "    Torres_Hanoi(N-1, desde, 6-desde-hasta)\r\n",
        "    print(\"Lleva la ficha \" ,desde, \" hasta \", hasta)\r\n",
        "    Torres_Hanoi(N-1, 6-desde-hasta, hasta)\r\n",
        "\r\n",
        "Torres_Hanoi(4, 1, 3)"
      ],
      "execution_count": null,
      "outputs": [
        {
          "output_type": "stream",
          "text": [
            "Lleva la ficha  1  hasta  2\n",
            "Lleva la ficha  1  hasta  3\n",
            "Lleva la ficha  2  hasta  3\n",
            "Lleva la ficha  1  hasta  2\n",
            "Lleva la ficha  3  hasta  1\n",
            "Lleva la ficha  3  hasta  2\n",
            "Lleva la ficha  1  hasta  2\n",
            "Lleva la ficha  1  hasta  3\n",
            "Lleva la ficha  2  hasta  3\n",
            "Lleva la ficha  2  hasta  1\n",
            "Lleva la ficha  3  hasta  1\n",
            "Lleva la ficha  2  hasta  3\n",
            "Lleva la ficha  1  hasta  2\n",
            "Lleva la ficha  1  hasta  3\n",
            "Lleva la ficha  2  hasta  3\n"
          ],
          "name": "stdout"
        }
      ]
    },
    {
      "cell_type": "markdown",
      "metadata": {
        "id": "mRXCeyJYLiFQ"
      },
      "source": [
        "##Devolución de cambio por técnica voraz"
      ]
    }
  ]
}