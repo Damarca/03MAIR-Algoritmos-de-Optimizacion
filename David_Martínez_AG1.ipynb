{
  "nbformat": 4,
  "nbformat_minor": 0,
  "metadata": {
    "colab": {
      "name": "David Martínez - AG1.ipynb",
      "provenance": [],
      "collapsed_sections": [],
      "toc_visible": true,
      "mount_file_id": "1uTdAgYNyq4bQZAX5_sT8-MEKgmNo0q7_",
      "authorship_tag": "ABX9TyMXE1aWljpWXwVne+sNaD2w",
      "include_colab_link": true
    },
    "kernelspec": {
      "name": "python3",
      "display_name": "Python 3"
    }
  },
  "cells": [
    {
      "cell_type": "markdown",
      "metadata": {
        "id": "view-in-github",
        "colab_type": "text"
      },
      "source": [
        "<a href=\"https://colab.research.google.com/github/Damarca/03MAIR-Algoritmos-de-Optimizacion/blob/main/David_Mart%C3%ADnez_AG1.ipynb\" target=\"_parent\"><img src=\"https://colab.research.google.com/assets/colab-badge.svg\" alt=\"Open In Colab\"/></a>"
      ]
    },
    {
      "cell_type": "markdown",
      "metadata": {
        "id": "iGsFnvI-E0Tv"
      },
      "source": [
        "#Algoritmos -Actividad Guiada 1\r\n",
        "David: David Martínez Carballeira <br>\r\n",
        "URL: https://colab.research.google.com/drive/1odpi5SdbQqr1NVCBg02cV4xFL5lpg9pH?usp=sharing\r\n",
        "\r\n",
        "https://github.com/Damarca/03MAIR-Algoritmos-de-Optimizacion"
      ]
    },
    {
      "cell_type": "code",
      "metadata": {
        "id": "BJfHWqd-DSLN"
      },
      "source": [
        ""
      ],
      "execution_count": null,
      "outputs": []
    },
    {
      "cell_type": "markdown",
      "metadata": {
        "id": "R2AEVWXTFyvq"
      },
      "source": [
        "##Torres de Hanoi con Divide y vencerás"
      ]
    },
    {
      "cell_type": "code",
      "metadata": {
        "colab": {
          "base_uri": "https://localhost:8080/"
        },
        "id": "yjn35opoGpWv",
        "outputId": "0a99b7aa-be39-4c29-e332-c2dbce3861df"
      },
      "source": [
        "def Torres_Hanoi(N, desde, hasta):\r\n",
        "  if N == 1 :\r\n",
        "    print(\"Lleva la ficha \" ,desde, \" hasta \", hasta)\r\n",
        "\r\n",
        "  else:\r\n",
        "    Torres_Hanoi(N-1, desde, 6-desde-hasta)\r\n",
        "    print(\"Lleva la ficha \" ,desde, \" hasta \", hasta)\r\n",
        "    Torres_Hanoi(N-1, 6-desde-hasta, hasta)\r\n",
        "\r\n",
        "Torres_Hanoi(4, 1, 3)"
      ],
      "execution_count": null,
      "outputs": [
        {
          "output_type": "stream",
          "text": [
            "Lleva la ficha  1  hasta  2\n",
            "Lleva la ficha  1  hasta  3\n",
            "Lleva la ficha  2  hasta  3\n",
            "Lleva la ficha  1  hasta  2\n",
            "Lleva la ficha  3  hasta  1\n",
            "Lleva la ficha  3  hasta  2\n",
            "Lleva la ficha  1  hasta  2\n",
            "Lleva la ficha  1  hasta  3\n",
            "Lleva la ficha  2  hasta  3\n",
            "Lleva la ficha  2  hasta  1\n",
            "Lleva la ficha  3  hasta  1\n",
            "Lleva la ficha  2  hasta  3\n",
            "Lleva la ficha  1  hasta  2\n",
            "Lleva la ficha  1  hasta  3\n",
            "Lleva la ficha  2  hasta  3\n"
          ],
          "name": "stdout"
        }
      ]
    },
    {
      "cell_type": "markdown",
      "metadata": {
        "id": "mRXCeyJYLiFQ"
      },
      "source": [
        "##Devolución de cambio por técnica voraz"
      ]
    },
    {
      "cell_type": "code",
      "metadata": {
        "colab": {
          "base_uri": "https://localhost:8080/"
        },
        "id": "7TVGfTA_Y9wL",
        "outputId": "e0ada566-4d0d-4182-8409-fb59cfe80d11"
      },
      "source": [
        "def cambio_monedas(N, SM):\r\n",
        "  SOLUCION = [0]*len(SM)  #SOLUCION = [0,0,0,0,...]\r\n",
        "  ValorAcumulado = 0\r\n",
        "\r\n",
        "  for i,valor in enumerate(SM):\r\n",
        "    monedas = (N-ValorAcumulado)//valor\r\n",
        "    SOLUCION[i] = monedas\r\n",
        "    ValorAcumulado = ValorAcumulado + monedas*valor\r\n",
        "\r\n",
        "    if ValorAcumulado == N:\r\n",
        "      return SOLUCION\r\n",
        "\r\n",
        "cambio_monedas(681515, [100,25,10,5,1])"
      ],
      "execution_count": null,
      "outputs": [
        {
          "output_type": "execute_result",
          "data": {
            "text/plain": [
              "[6815, 0, 1, 1, 0]"
            ]
          },
          "metadata": {
            "tags": []
          },
          "execution_count": 7
        }
      ]
    },
    {
      "cell_type": "markdown",
      "metadata": {
        "id": "vWvU8daRkNTl"
      },
      "source": [
        "##N-Reinas por técnica de vuelta atrás"
      ]
    },
    {
      "cell_type": "code",
      "metadata": {
        "colab": {
          "base_uri": "https://localhost:8080/"
        },
        "id": "X61jLL3tkLpx",
        "outputId": "a9a4846e-bd33-42ad-9252-f551e3d4e49b"
      },
      "source": [
        "def escribe(S):\r\n",
        "\r\n",
        "  n = len(S)\r\n",
        "\r\n",
        "  for x in range(n):\r\n",
        "\r\n",
        "    print(\"\")\r\n",
        "\r\n",
        "    for i in range(n):\r\n",
        "\r\n",
        "      if S[i] == x+1:\r\n",
        "\r\n",
        "        print(\" X \" , end=\"\")\r\n",
        "\r\n",
        "      else:\r\n",
        "\r\n",
        "        print(\" - \", end=\"\")\r\n",
        "\r\n",
        "\r\n",
        "def es_prometedora(SOLUCION, etapa):\r\n",
        "\r\n",
        "  #print(SOLUCION)\r\n",
        "\r\n",
        "  #Si la solución tiene dos valores iguales no es valida => Dos reinas en la misma fila\r\n",
        "\r\n",
        "  for i in range(etapa+1):\r\n",
        "\r\n",
        "    #print(\"El valor \" + str(SOLUCION[i]) + \" está \" +  str(SOLUCION.count(SOLUCION[i])) + \" veces\")\r\n",
        "\r\n",
        "    if SOLUCION.count(SOLUCION[i]) > 1:       \r\n",
        "\r\n",
        "      return False\r\n",
        "\r\n",
        "  \r\n",
        "\r\n",
        "    #Verifica las diagonales\r\n",
        "\r\n",
        "    for j in range(i+1, etapa +1 ):\r\n",
        "\r\n",
        "      #print(\"Comprobando diagonal de \" + str(i) + \" y \" + str(j))\r\n",
        "\r\n",
        "      if abs(i-j) == abs(SOLUCION[i]-SOLUCION[j]) : return False\r\n",
        "\r\n",
        "  return True\r\n",
        "\r\n",
        "\r\n",
        "def reinas(N, solucion=[], etapa=0):\r\n",
        "  if len(solucion) == 0:\r\n",
        "    solucion = [0 for i in range(N)]\r\n",
        "  for i in range(1, N+1):\r\n",
        "    solucion[etapa] = i\r\n",
        "\r\n",
        "    if es_prometedora(solucion, etapa):\r\n",
        "      if etapa == N-1:\r\n",
        "        print(solucion)\r\n",
        "        escribe(solucion)\r\n",
        "      else:\r\n",
        "        reinas(N,solucion,etapa+1)\r\n",
        "    else:\r\n",
        "        None\r\n",
        "\r\n",
        "    solucion[etapa] = 0\r\n",
        "\r\n",
        "reinas(4)"
      ],
      "execution_count": null,
      "outputs": [
        {
          "output_type": "stream",
          "text": [
            "[2, 4, 1, 3]\n",
            "\n",
            " -  -  X  - \n",
            " X  -  -  - \n",
            " -  -  -  X \n",
            " -  X  -  - [3, 1, 4, 2]\n",
            "\n",
            " -  X  -  - \n",
            " -  -  -  X \n",
            " X  -  -  - \n",
            " -  -  X  - "
          ],
          "name": "stdout"
        }
      ]
    }
  ]
}