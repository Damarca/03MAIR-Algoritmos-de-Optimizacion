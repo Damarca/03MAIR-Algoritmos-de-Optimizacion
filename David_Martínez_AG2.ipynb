{
  "nbformat": 4,
  "nbformat_minor": 0,
  "metadata": {
    "colab": {
      "name": "David Martínez - AG2.ipynb",
      "provenance": [],
      "toc_visible": true,
      "authorship_tag": "ABX9TyP0WjB7jd+saig7iRCqc5fk",
      "include_colab_link": true
    },
    "kernelspec": {
      "name": "python3",
      "display_name": "Python 3"
    }
  },
  "cells": [
    {
      "cell_type": "markdown",
      "metadata": {
        "id": "view-in-github",
        "colab_type": "text"
      },
      "source": [
        "<a href=\"https://colab.research.google.com/github/Damarca/03MAIR-Algoritmos-de-Optimizacion/blob/main/David_Mart%C3%ADnez_AG2.ipynb\" target=\"_parent\"><img src=\"https://colab.research.google.com/assets/colab-badge.svg\" alt=\"Open In Colab\"/></a>"
      ]
    },
    {
      "cell_type": "markdown",
      "metadata": {
        "id": "YvMbNxOmqzk1"
      },
      "source": [
        "#Actividad Guiada 2\r\n",
        "David: David Martínez Carballeira <br>\r\n",
        "URL: https://colab.research.google.com/drive/12jwoqZQpql6dkirBAM9txBR8JtAVqmyz?usp=sharing\r\n",
        "\r\n",
        "https://github.com/Damarca/03MAIR-Algoritmos-de-Optimizacion"
      ]
    },
    {
      "cell_type": "markdown",
      "metadata": {
        "id": "6jp1IdObs6fH"
      },
      "source": [
        "##Viaje por el rio"
      ]
    },
    {
      "cell_type": "code",
      "metadata": {
        "id": "LjpXqu-cqiVY"
      },
      "source": [
        "import math"
      ],
      "execution_count": 1,
      "outputs": []
    },
    {
      "cell_type": "code",
      "metadata": {
        "id": "bj4lu6UltBHK"
      },
      "source": [
        "TARIFAS = [\r\n",
        "[0,5,4,3,999,999,999],   #desde nodo 0\r\n",
        "[999,0,999,2,3,999,11],  #desde nodo 1\r\n",
        "[999,999, 0,1,999,4,10], #desde nodo 2\r\n",
        "[999,999,999, 0,5,6,9],\r\n",
        "[999,999, 999,999,0,999,4],\r\n",
        "[999,999, 999,999,999,0,3],\r\n",
        "[999,999,999,999,999,999,0]\r\n",
        "]"
      ],
      "execution_count": 2,
      "outputs": []
    },
    {
      "cell_type": "code",
      "metadata": {
        "id": "fEFS-ISrtD3u"
      },
      "source": [
        "def Precios(TARIFAS):\r\n",
        "################################################################  \r\n",
        "  #Total de Nodos\r\n",
        "  N = len(TARIFAS[0])\r\n",
        "  \r\n",
        "  #Inicialización de la tabla de precios\r\n",
        "  PRECIOS = [ [9999]*N for i in [9999]*N]  #n x n \r\n",
        "  RUTA = [ [\"\"]*N for i in [\"\"]*N]\r\n",
        "  \r\n",
        "  for i in range(N-1):\r\n",
        "    for j in range(i+1, N):\r\n",
        "      MIN = TARIFAS[i][j]\r\n",
        "      RUTA[i][j] = i\r\n",
        "      \r\n",
        "      for k in range(i, j):\r\n",
        "        if PRECIOS[i][k] + TARIFAS[k][j] < MIN:\r\n",
        "            MIN = min(MIN, PRECIOS[i][k] + TARIFAS[k][j] )\r\n",
        "            RUTA[i][j] = k\r\n",
        "        PRECIOS[i][j] = MIN\r\n",
        "        \r\n",
        "  return PRECIOS,RUTA"
      ],
      "execution_count": 3,
      "outputs": []
    },
    {
      "cell_type": "code",
      "metadata": {
        "colab": {
          "base_uri": "https://localhost:8080/"
        },
        "id": "omhf-ASEtGrv",
        "outputId": "2c112b0f-3c34-4e39-83cd-0c97ef6394ee"
      },
      "source": [
        "PRECIOS,RUTA = Precios(TARIFAS)  \r\n",
        "#print(PRECIOS[0][6])\r\n",
        "\r\n",
        "print(\"PRECIOS\")\r\n",
        "for i in range(len(TARIFAS)):\r\n",
        "  print(PRECIOS[i])\r\n",
        "\r\n",
        "print(\"\\nRUTA\")  \r\n",
        "for i in range(len(TARIFAS)):\r\n",
        "  print(RUTA[i]) "
      ],
      "execution_count": 4,
      "outputs": [
        {
          "output_type": "stream",
          "text": [
            "PRECIOS\n",
            "[9999, 5, 4, 3, 8, 8, 11]\n",
            "[9999, 9999, 999, 2, 3, 8, 7]\n",
            "[9999, 9999, 9999, 1, 6, 4, 7]\n",
            "[9999, 9999, 9999, 9999, 5, 6, 9]\n",
            "[9999, 9999, 9999, 9999, 9999, 999, 4]\n",
            "[9999, 9999, 9999, 9999, 9999, 9999, 3]\n",
            "[9999, 9999, 9999, 9999, 9999, 9999, 9999]\n",
            "\n",
            "RUTA\n",
            "['', 0, 0, 0, 1, 2, 5]\n",
            "['', '', 1, 1, 1, 3, 4]\n",
            "['', '', '', 2, 3, 2, 5]\n",
            "['', '', '', '', 3, 3, 3]\n",
            "['', '', '', '', '', 4, 4]\n",
            "['', '', '', '', '', '', 5]\n",
            "['', '', '', '', '', '', '']\n"
          ],
          "name": "stdout"
        }
      ]
    },
    {
      "cell_type": "code",
      "metadata": {
        "colab": {
          "base_uri": "https://localhost:8080/",
          "height": 69
        },
        "id": "Up5rke66tI12",
        "outputId": "3a4d082d-401a-4213-c74f-98ff1caefc81"
      },
      "source": [
        "def calcular_ruta(RUTA, desde, hasta):\r\n",
        "  if desde == hasta:\r\n",
        "    #print(\"Ir a :\" + str(desde))\r\n",
        "    return desde \r\n",
        "  else:\r\n",
        "    return str(calcular_ruta(RUTA, desde, RUTA[desde][hasta])) +  ',' + str(RUTA[desde][hasta]) \r\n",
        "\r\n",
        "print(\"\\nLa ruta es:\")  \r\n",
        "calcular_ruta(RUTA, 0,6) "
      ],
      "execution_count": 5,
      "outputs": [
        {
          "output_type": "stream",
          "text": [
            "\n",
            "La ruta es:\n"
          ],
          "name": "stdout"
        },
        {
          "output_type": "execute_result",
          "data": {
            "application/vnd.google.colaboratory.intrinsic+json": {
              "type": "string"
            },
            "text/plain": [
              "'0,0,2,5'"
            ]
          },
          "metadata": {
            "tags": []
          },
          "execution_count": 5
        }
      ]
    },
    {
      "cell_type": "markdown",
      "metadata": {
        "id": "Iq7tE2yFt9TP"
      },
      "source": [
        "##Problema de Asignacion de tarea"
      ]
    },
    {
      "cell_type": "code",
      "metadata": {
        "id": "NOPdZV3tttf2"
      },
      "source": [
        "COSTES=[[11,12,18,40],\r\n",
        "        [14,15,13,22],\r\n",
        "        [11,17,19,23],\r\n",
        "        [17,14,20,28]]"
      ],
      "execution_count": 6,
      "outputs": []
    },
    {
      "cell_type": "code",
      "metadata": {
        "colab": {
          "base_uri": "https://localhost:8080/"
        },
        "id": "2TsnlQTYtvmx",
        "outputId": "0f4671c6-ea17-4169-eb76-d24bf6a76f54"
      },
      "source": [
        "def valor(S,COSTES):\r\n",
        "  VALOR = 0\r\n",
        "  for i in range(len(S)):\r\n",
        "    VALOR += COSTES[S[i]][i] \r\n",
        "  return VALOR\r\n",
        "  \r\n",
        "valor((0, 1, 2, 3  ),COSTES)"
      ],
      "execution_count": 7,
      "outputs": [
        {
          "output_type": "execute_result",
          "data": {
            "text/plain": [
              "73"
            ]
          },
          "metadata": {
            "tags": []
          },
          "execution_count": 7
        }
      ]
    },
    {
      "cell_type": "code",
      "metadata": {
        "colab": {
          "base_uri": "https://localhost:8080/"
        },
        "id": "vlXX9dLhtxyH",
        "outputId": "effc2181-66d9-433f-bedf-f06f010d7305"
      },
      "source": [
        "#Coste inferior para soluciones parciales\r\n",
        "#  (1,3,) Se asigna la tarea 1 al agente 0 y la tarea 3 al agente 1\r\n",
        "\r\n",
        "def CI(S,COSTES):\r\n",
        "  VALOR = 0\r\n",
        "  #Valores establecidos\r\n",
        "  for i in range(len(S)):\r\n",
        "    VALOR += COSTES[i][S[i]]\r\n",
        "\r\n",
        "  #Estimacion\r\n",
        "  for i in range( len(S), len(COSTES)   ):\r\n",
        "    VALOR += min( [ COSTES[j][i] for j in range(len(S), len(COSTES))  ])\r\n",
        "  return VALOR\r\n",
        "\r\n",
        "def CS(S,COSTES):\r\n",
        "  VALOR = 0\r\n",
        "  #Valores establecidos\r\n",
        "  for i in range(len(S)):\r\n",
        "    VALOR += COSTES[i][S[i]]\r\n",
        "\r\n",
        "  #Estimacion\r\n",
        "  for i in range( len(S), len(COSTES)   ):\r\n",
        "    VALOR += max( [ COSTES[j][i] for j in range(len(S), len(COSTES))  ])\r\n",
        "  return VALOR\r\n",
        "\r\n",
        "CS((0,1),COSTES)"
      ],
      "execution_count": 8,
      "outputs": [
        {
          "output_type": "execute_result",
          "data": {
            "text/plain": [
              "74"
            ]
          },
          "metadata": {
            "tags": []
          },
          "execution_count": 8
        }
      ]
    },
    {
      "cell_type": "code",
      "metadata": {
        "id": "lgZMd3VRt0S1"
      },
      "source": [
        "#Genera tantos hijos como como posibilidades haya para la siguiente elemento de la tupla\r\n",
        "#(0,) -> (0,1), (0,2), (0,3)\r\n",
        "def crear_hijos(NODO, N):\r\n",
        "  HIJOS = []\r\n",
        "  for i in range(N ):\r\n",
        "    if i not in NODO:\r\n",
        "      HIJOS.append({'s':NODO +(i,)    })\r\n",
        "  return HIJOS"
      ],
      "execution_count": 9,
      "outputs": []
    },
    {
      "cell_type": "code",
      "metadata": {
        "colab": {
          "base_uri": "https://localhost:8080/"
        },
        "id": "AsCQkK2Wt2NG",
        "outputId": "6fe759f8-8957-4859-9b3c-cf6532c58761"
      },
      "source": [
        "def ramificacion_y_poda(COSTES):\r\n",
        "#Construccion iterativa de soluciones(arbol). En cada etapa asignamos un agente(ramas).\r\n",
        "#Nodos del grafo  { s:(1,2),CI:3,CS:5  }\r\n",
        "  #print(COSTES)\r\n",
        "  DIMENSION = len(COSTES)  \r\n",
        "  MEJOR_SOLUCION=tuple( i for i in range(len(COSTES)) )\r\n",
        "  CotaSup = valor(MEJOR_SOLUCION,COSTES)\r\n",
        "  #print(\"Cota Superior:\", CotaSup)\r\n",
        "\r\n",
        "  NODOS=[]\r\n",
        "  NODOS.append({'s':(), 'ci':CI((),COSTES)    } )\r\n",
        "\r\n",
        "  iteracion = 0\r\n",
        "\r\n",
        "  while( len(NODOS) > 0):\r\n",
        "    iteracion +=1\r\n",
        "\r\n",
        "    nodo_prometedor = [ min(NODOS, key=lambda x:x['ci']) ][0]['s']\r\n",
        "    #print(\"Nodo prometedor:\", nodo_prometedor)\r\n",
        "\r\n",
        "    #Ramificacion\r\n",
        "    #Se generan los hijos\r\n",
        "    HIJOS =[ {'s':x['s'], 'ci':CI(x['s'], COSTES)   } for x in crear_hijos(nodo_prometedor, DIMENSION) ]\r\n",
        "\r\n",
        "    #Revisamos la cota superior y nos quedamos con la mejor solucion si llegamos a una solucion final\r\n",
        "    NODO_FINAL = [x for x in HIJOS if len(x['s']) == DIMENSION  ]\r\n",
        "    if len(NODO_FINAL ) >0: \r\n",
        "      #print(\"\\n********Soluciones:\",  [x for x in HIJOS if len(x['s']) == DIMENSION  ] )\r\n",
        "      if NODO_FINAL[0]['ci'] < CotaSup:\r\n",
        "        CotaSup = NODO_FINAL[0]['ci']\r\n",
        "        MEJOR_SOLUCION = NODO_FINAL\r\n",
        " \r\n",
        "    #Poda\r\n",
        "    HIJOS = [x for x in HIJOS if x['ci'] < CotaSup   ]\r\n",
        "\r\n",
        "    #Añadimos los hijos \r\n",
        "    NODOS.extend(HIJOS) \r\n",
        "\r\n",
        "    #Eliminamos el nodo ramificado\r\n",
        "    NODOS =  [  x for x in NODOS if x['s'] != nodo_prometedor    ]\r\n",
        "   \r\n",
        "  print(\"La solucion final es:\" ,MEJOR_SOLUCION , \" en \" , iteracion , \" iteraciones\" , \" para dimension: \" ,DIMENSION  )\r\n",
        "      \r\n",
        "\r\n",
        "\r\n",
        "ramificacion_y_poda(COSTES)"
      ],
      "execution_count": 10,
      "outputs": [
        {
          "output_type": "stream",
          "text": [
            "La solucion final es: [{'s': (1, 2, 0, 3), 'ci': 64}]  en  10  iteraciones  para dimension:  4\n"
          ],
          "name": "stdout"
        }
      ]
    },
    {
      "cell_type": "markdown",
      "metadata": {
        "id": "wMZHSGnouFK6"
      },
      "source": [
        "##Descenso del gradiente"
      ]
    },
    {
      "cell_type": "code",
      "metadata": {
        "id": "RbpRXKzNuEFr"
      },
      "source": [
        "import math                      #Funciones matematicas\r\n",
        "import matplotlib.pyplot as plt  #Generacion de gráficos (otra opcion seaborn)\r\n",
        "import numpy as np               #Tratamiento matriz N-dimensionales y otras (fundamental!) \r\n",
        "#import scipy as sc\r\n",
        "\r\n",
        "import random"
      ],
      "execution_count": 11,
      "outputs": []
    },
    {
      "cell_type": "code",
      "metadata": {
        "id": "glg9OBeKuIig"
      },
      "source": [
        "#Definimos la funcion\r\n",
        "#Paraboloide\r\n",
        "f  = lambda X:      X[0]**2+X[1]**2      #Funcion\r\n",
        "df = lambda X: [2*X[0] , 2*X[1]]         #Gradiente"
      ],
      "execution_count": 12,
      "outputs": []
    },
    {
      "cell_type": "code",
      "metadata": {
        "colab": {
          "base_uri": "https://localhost:8080/",
          "height": 282
        },
        "id": "HUp0hOVauMAj",
        "outputId": "717e7b1f-915b-4908-80c0-6add48b89a68"
      },
      "source": [
        "#Prepara los datos para dibujar mapa de niveles de Z\r\n",
        "resolucion = 100 \r\n",
        "rango=2.5\r\n",
        "X=np.linspace(-rango,rango,resolucion) \r\n",
        "Y=np.linspace(-rango,rango,resolucion)\r\n",
        "Z=np.zeros((resolucion,resolucion))\r\n",
        "for ix,x in enumerate(X):\r\n",
        "  for iy,y in enumerate(Y):\r\n",
        "    Z[iy,ix] = f([x,y])\r\n",
        "\r\n",
        "#Pinta el mapa de niveles de Z\r\n",
        "plt.contourf(X,Y,Z,resolucion)\r\n",
        "plt.colorbar() \r\n",
        "\r\n",
        "#Generamos un punto aleatorio\r\n",
        "P=[random.uniform(-2,2  ),random.uniform(-2,2 ) ]\r\n",
        "plt.plot(P[0],P[1],\"o\",c=\"white\")\r\n",
        "\r\n",
        "#Tasa de aprendizaje\r\n",
        "TA=.1 \r\n",
        "\r\n",
        "#Iteraciones\r\n",
        "for _ in range(500):\r\n",
        "  grad = df(P)\r\n",
        "  #print(P,grad)\r\n",
        "  P[0],P[1] = P[0] - TA*grad[0] , P[1] - TA*grad[1]\r\n",
        "  plt.plot(P[0],P[1],\"o\",c=\"red\")\r\n",
        "\r\n",
        "plt.plot(P[0],P[1],\"o\",c=\"green\")\r\n",
        "plt.show()\r\n",
        "print(\"Solucion:\" , P , f(P))"
      ],
      "execution_count": 13,
      "outputs": [
        {
          "output_type": "display_data",
          "data": {
            "image/png": "[encoded data removed]",
            "text/plain": [
              "<Figure size 432x288 with 2 Axes>"
            ]
          },
          "metadata": {
            "tags": [],
            "needs_background": "light"
          }
        },
        {
          "output_type": "stream",
          "text": [
            "Solucion: [6.196273994577084e-49, 2.5134527435120566e-49] 4.471125610974054e-97\n"
          ],
          "name": "stdout"
        }
      ]
    }
  ]
}